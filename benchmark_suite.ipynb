{
 "cells": [
  {
   "cell_type": "code",
   "execution_count": 2,
   "metadata": {},
   "outputs": [],
   "source": [
    "import os\n",
    "import json\n",
    "import glob"
   ]
  },
  {
   "cell_type": "code",
   "execution_count": 26,
   "metadata": {},
   "outputs": [],
   "source": [
    "train_weathers = ['ClearNoon', \"WetNoon\", \"HardRainNoon\", \"ClearSunset\"]\n",
    "corl_new_weathers = ['WetCloudyNoon', 'SoftRainSunset']\n",
    "nocrash_new_weathers = ['WetSunset', 'SoftRainSunset']\n",
    "any_weathers = ['CloudyNoon', 'WetCloudyNoon', 'MidRainyNoon', 'SoftRainNoon',\n",
    "                'CloudySunset', 'WetSunset', 'WetCloudySunset', 'MidRainSunset',\n",
    "                'HardRainSunset', 'SoftRainSunset']"
   ]
  },
  {
   "cell_type": "code",
   "execution_count": 34,
   "metadata": {},
   "outputs": [],
   "source": [
    "corl_vehicles_tasks = [0, 0, 0, 15]\n",
    "corl_pedestrians_tasks = [0, 0, 0, 50]\n",
    "nocrash_vehicles_tasks = [0, 20, 100]\n",
    "nocrash_pedestrians_tasks = [0, 50, 250]\n",
    "anyweather_vehicles_tasks = [0, 0, 0, 15]\n",
    "anyweather_pedestrians_tasks = [0, 0, 0, 50]"
   ]
  },
  {
   "cell_type": "code",
   "execution_count": 24,
   "metadata": {},
   "outputs": [],
   "source": [
    "taskids = glob.glob('./oatomobile/benchmarks/corl2017/configs/Town01_FullTown*')\n",
    "train_routes = [ ]\n",
    "for task in taskids:\n",
    "    with open(task, 'r') as f:\n",
    "        config = json.load(f)\n",
    "        origin = config['origin']\n",
    "        destination = config['destination']\n",
    "        train_routes.append([origin, destination])\n",
    "        \n",
    "taskids = glob.glob('./oatomobile/benchmarks/corl2017/configs/Town02_FullTown*')\n",
    "test_routes = [ ]\n",
    "for task in taskids:\n",
    "    with open(task, 'r') as f:\n",
    "        config = json.load(f)\n",
    "        origin = config['origin']\n",
    "        destination = config['destination']\n",
    "        test_routes.append([origin, destination])"
   ]
  },
  {
   "cell_type": "code",
   "execution_count": 32,
   "metadata": {},
   "outputs": [],
   "source": [
    "template = {\"town\": \"Town01\",\n",
    "            \"origin\": -1,\n",
    "            \"destination\": -1,\n",
    "            \"num_vehicles\": -1,\n",
    "            \"num_pedestrians\": -1,\n",
    "            \"weather\": \"TBD\"}"
   ]
  },
  {
   "cell_type": "markdown",
   "metadata": {},
   "source": [
    "### Nocrash training suite"
   ]
  },
  {
   "cell_type": "code",
   "execution_count": 33,
   "metadata": {},
   "outputs": [],
   "source": [
    "town = \"Town01\""
   ]
  },
  {
   "cell_type": "code",
   "execution_count": 40,
   "metadata": {},
   "outputs": [],
   "source": [
    "for i, task in enumerate(['Empty', 'Regular', 'Dense']):\n",
    "    for weather in train_weathers:\n",
    "        for r_id, route in enumerate(train_routes):\n",
    "            origin = route[0]\n",
    "            destination = route[1]\n",
    "            num_vehicles = nocrash_vehicles_tasks[i]\n",
    "            num_pedestrians = nocrash_pedestrians_tasks[i]\n",
    "            task_cfg = {\"town\": town,\n",
    "                        \"origin\": origin,\n",
    "                        \"destination\": destination,\n",
    "                        \"num_vehicles\": num_vehicles,\n",
    "                        \"num_pedestrians\": num_pedestrians,\n",
    "                        \"weather\": weather}\n",
    "            name = task+'-'+weather+str(r_id)+'.json'\n",
    "            with open('oatomobile/benchmarks/nocrash_train_suite/configs/%s'%name, 'w') as outfile:\n",
    "                json.dump(task_cfg, outfile, indent=2)"
   ]
  },
  {
   "cell_type": "markdown",
   "metadata": {},
   "source": [
    "### Nocrash new town suite"
   ]
  },
  {
   "cell_type": "code",
   "execution_count": 41,
   "metadata": {},
   "outputs": [],
   "source": [
    "town = \"Town02\""
   ]
  },
  {
   "cell_type": "code",
   "execution_count": 44,
   "metadata": {},
   "outputs": [],
   "source": [
    "for i, task in enumerate(['Empty', 'Regular', 'Dense']):\n",
    "    for weather in train_weathers:\n",
    "        for r_id, route in enumerate(test_routes):\n",
    "            origin = route[0]\n",
    "            destination = route[1]\n",
    "            num_vehicles = nocrash_vehicles_tasks[i]\n",
    "            num_pedestrians = nocrash_pedestrians_tasks[i]\n",
    "            task_cfg = {\"town\": town,\n",
    "                        \"origin\": origin,\n",
    "                        \"destination\": destination,\n",
    "                        \"num_vehicles\": num_vehicles,\n",
    "                        \"num_pedestrians\": num_pedestrians,\n",
    "                        \"weather\": weather}\n",
    "            name = task+'-'+weather+str(r_id)+'.json'\n",
    "            with open('oatomobile/benchmarks/nocrash_new_town_suite/configs/%s'%name, 'w') as outfile:\n",
    "                json.dump(task_cfg, outfile, indent=2)"
   ]
  },
  {
   "cell_type": "code",
   "execution_count": 46,
   "metadata": {},
   "outputs": [
    {
     "data": {
      "text/plain": [
       "{'town': 'Town02',\n",
       " 'origin': 42,\n",
       " 'destination': 31,\n",
       " 'num_vehicles': 100,\n",
       " 'num_pedestrians': 250,\n",
       " 'weather': 'ClearSunset'}"
      ]
     },
     "execution_count": 46,
     "metadata": {},
     "output_type": "execute_result"
    }
   ],
   "source": [
    "task_cfg"
   ]
  },
  {
   "cell_type": "markdown",
   "metadata": {},
   "source": [
    "### Nocrash new town & weather suite"
   ]
  },
  {
   "cell_type": "code",
   "execution_count": 47,
   "metadata": {},
   "outputs": [],
   "source": [
    "town = \"Town02\""
   ]
  },
  {
   "cell_type": "code",
   "execution_count": 48,
   "metadata": {},
   "outputs": [],
   "source": [
    "for i, task in enumerate(['Empty', 'Regular', 'Dense']):\n",
    "    for weather in nocrash_new_weathers:\n",
    "        for r_id, route in enumerate(test_routes):\n",
    "            origin = route[0]\n",
    "            destination = route[1]\n",
    "            num_vehicles = nocrash_vehicles_tasks[i]\n",
    "            num_pedestrians = nocrash_pedestrians_tasks[i]\n",
    "            task_cfg = {\"town\": town,\n",
    "                        \"origin\": origin,\n",
    "                        \"destination\": destination,\n",
    "                        \"num_vehicles\": num_vehicles,\n",
    "                        \"num_pedestrians\": num_pedestrians,\n",
    "                        \"weather\": weather}\n",
    "            name = task+'-'+weather+str(r_id)+'.json'\n",
    "            with open('oatomobile/benchmarks/nocrash_new_weather_town_suite/configs/%s'%name, 'w') as outfile:\n",
    "                json.dump(task_cfg, outfile, indent=2)"
   ]
  },
  {
   "cell_type": "markdown",
   "metadata": {},
   "source": [
    "### CoRL training suite"
   ]
  },
  {
   "cell_type": "code",
   "execution_count": 54,
   "metadata": {},
   "outputs": [],
   "source": [
    "town = \"Town01\"\n",
    "tasks = ['Straight', 'OneTurn', 'Navigation', 'NavDynamic']\n",
    "routes = { }\n",
    "\n",
    "taskids = glob.glob('./oatomobile/benchmarks/corl2017/configs/Town01_Straight*')\n",
    "r_list = [ ]\n",
    "for task in taskids:\n",
    "    with open(task, 'r') as f:\n",
    "        config = json.load(f)\n",
    "        origin = config['origin']\n",
    "        destination = config['destination']\n",
    "        r_list.append([origin, destination])\n",
    "routes['Straight'] = r_list\n",
    "\n",
    "taskids = glob.glob('./oatomobile/benchmarks/corl2017/configs/Town01_Turn*')\n",
    "r_list = [ ]\n",
    "for task in taskids:\n",
    "    with open(task, 'r') as f:\n",
    "        config = json.load(f)\n",
    "        origin = config['origin']\n",
    "        destination = config['destination']\n",
    "        r_list.append([origin, destination])\n",
    "routes['OneTurn'] = r_list\n",
    "\n",
    "taskids = glob.glob('./oatomobile/benchmarks/corl2017/configs/Town01_FullTown*')\n",
    "r_list = [ ]\n",
    "for task in taskids:\n",
    "    with open(task, 'r') as f:\n",
    "        config = json.load(f)\n",
    "        origin = config['origin']\n",
    "        destination = config['destination']\n",
    "        r_list.append([origin, destination])\n",
    "routes['Navigation'] = r_list\n",
    "        \n",
    "taskids = glob.glob('./oatomobile/benchmarks/corl2017/configs/Town01_FullTown*')\n",
    "r_list = [ ]\n",
    "for task in taskids:\n",
    "    with open(task, 'r') as f:\n",
    "        config = json.load(f)\n",
    "        origin = config['origin']\n",
    "        destination = config['destination']\n",
    "        r_list.append([origin, destination])\n",
    "routes['NavDynamic'] = r_list"
   ]
  },
  {
   "cell_type": "code",
   "execution_count": 55,
   "metadata": {},
   "outputs": [],
   "source": [
    "for i, task in enumerate(tasks):\n",
    "    for weather in train_weathers:\n",
    "        for r_id, route in enumerate(routes[task]):\n",
    "            origin = route[0]\n",
    "            destination = route[1]\n",
    "            num_vehicles = corl_vehicles_tasks[i]\n",
    "            num_pedestrians = corl_pedestrians_tasks[i]\n",
    "            task_cfg = {\"town\": town,\n",
    "                        \"origin\": origin,\n",
    "                        \"destination\": destination,\n",
    "                        \"num_vehicles\": num_vehicles,\n",
    "                        \"num_pedestrians\": num_pedestrians,\n",
    "                        \"weather\": weather}\n",
    "            name = task+'-'+weather+str(r_id)+'.json'\n",
    "            with open('oatomobile/benchmarks/corl2017_training_suite/configs/%s'%name, 'w') as outfile:\n",
    "                json.dump(task_cfg, outfile, indent=2)"
   ]
  },
  {
   "cell_type": "markdown",
   "metadata": {},
   "source": [
    "### CoRL new town suite"
   ]
  },
  {
   "cell_type": "code",
   "execution_count": 62,
   "metadata": {},
   "outputs": [],
   "source": [
    "town = \"Town02\"\n",
    "tasks = ['Straight', 'OneTurn', 'Navigation', 'NavDynamic']\n",
    "routes = { }\n",
    "\n",
    "taskids = glob.glob('./oatomobile/benchmarks/corl2017/configs/Town02_Straight*')\n",
    "r_list = [ ]\n",
    "for task in taskids:\n",
    "    with open(task, 'r') as f:\n",
    "        config = json.load(f)\n",
    "        origin = config['origin']\n",
    "        destination = config['destination']\n",
    "        r_list.append([origin, destination])\n",
    "routes['Straight'] = r_list\n",
    "\n",
    "taskids = glob.glob('./oatomobile/benchmarks/corl2017/configs/Town02_Turn*')\n",
    "r_list = [ ]\n",
    "for task in taskids:\n",
    "    with open(task, 'r') as f:\n",
    "        config = json.load(f)\n",
    "        origin = config['origin']\n",
    "        destination = config['destination']\n",
    "        r_list.append([origin, destination])\n",
    "routes['OneTurn'] = r_list\n",
    "\n",
    "taskids = glob.glob('./oatomobile/benchmarks/corl2017/configs/Town02_FullTown*')\n",
    "r_list = [ ]\n",
    "for task in taskids:\n",
    "    with open(task, 'r') as f:\n",
    "        config = json.load(f)\n",
    "        origin = config['origin']\n",
    "        destination = config['destination']\n",
    "        r_list.append([origin, destination])\n",
    "routes['Navigation'] = r_list\n",
    "        \n",
    "taskids = glob.glob('./oatomobile/benchmarks/corl2017/configs/Town02_FullTown*')\n",
    "r_list = [ ]\n",
    "for task in taskids:\n",
    "    with open(task, 'r') as f:\n",
    "        config = json.load(f)\n",
    "        origin = config['origin']\n",
    "        destination = config['destination']\n",
    "        r_list.append([origin, destination])\n",
    "routes['NavDynamic'] = r_list"
   ]
  },
  {
   "cell_type": "code",
   "execution_count": 63,
   "metadata": {},
   "outputs": [],
   "source": [
    "for i, task in enumerate(tasks):\n",
    "    for weather in train_weathers:\n",
    "        for r_id, route in enumerate(routes[task]):\n",
    "            origin = route[0]\n",
    "            destination = route[1]\n",
    "            num_vehicles = corl_vehicles_tasks[i]\n",
    "            num_pedestrians = corl_pedestrians_tasks[i]\n",
    "            task_cfg = {\"town\": town,\n",
    "                        \"origin\": origin,\n",
    "                        \"destination\": destination,\n",
    "                        \"num_vehicles\": num_vehicles,\n",
    "                        \"num_pedestrians\": num_pedestrians,\n",
    "                        \"weather\": weather}\n",
    "            name = task+'-'+weather+str(r_id)+'.json'\n",
    "            with open('oatomobile/benchmarks/corl2017_new_town_suite/configs/%s'%name, 'w') as outfile:\n",
    "                json.dump(task_cfg, outfile, indent=2)"
   ]
  },
  {
   "cell_type": "markdown",
   "metadata": {},
   "source": [
    "### CoRL new weather & town suite"
   ]
  },
  {
   "cell_type": "code",
   "execution_count": 60,
   "metadata": {},
   "outputs": [],
   "source": [
    "town = \"Town02\"\n",
    "tasks = ['Straight', 'OneTurn', 'Navigation', 'NavDynamic']\n",
    "routes = { }\n",
    "\n",
    "taskids = glob.glob('./oatomobile/benchmarks/corl2017/configs/Town02_Straight*')\n",
    "r_list = [ ]\n",
    "for task in taskids:\n",
    "    with open(task, 'r') as f:\n",
    "        config = json.load(f)\n",
    "        origin = config['origin']\n",
    "        destination = config['destination']\n",
    "        r_list.append([origin, destination])\n",
    "routes['Straight'] = r_list\n",
    "\n",
    "taskids = glob.glob('./oatomobile/benchmarks/corl2017/configs/Town02_Turn*')\n",
    "r_list = [ ]\n",
    "for task in taskids:\n",
    "    with open(task, 'r') as f:\n",
    "        config = json.load(f)\n",
    "        origin = config['origin']\n",
    "        destination = config['destination']\n",
    "        r_list.append([origin, destination])\n",
    "routes['OneTurn'] = r_list\n",
    "\n",
    "taskids = glob.glob('./oatomobile/benchmarks/corl2017/configs/Town02_FullTown*')\n",
    "r_list = [ ]\n",
    "for task in taskids:\n",
    "    with open(task, 'r') as f:\n",
    "        config = json.load(f)\n",
    "        origin = config['origin']\n",
    "        destination = config['destination']\n",
    "        r_list.append([origin, destination])\n",
    "routes['Navigation'] = r_list\n",
    "        \n",
    "taskids = glob.glob('./oatomobile/benchmarks/corl2017/configs/Town02_FullTown*')\n",
    "r_list = [ ]\n",
    "for task in taskids:\n",
    "    with open(task, 'r') as f:\n",
    "        config = json.load(f)\n",
    "        origin = config['origin']\n",
    "        destination = config['destination']\n",
    "        r_list.append([origin, destination])\n",
    "routes['NavDynamic'] = r_list"
   ]
  },
  {
   "cell_type": "code",
   "execution_count": 64,
   "metadata": {},
   "outputs": [],
   "source": [
    "for i, task in enumerate(tasks):\n",
    "    for weather in corl_new_weathers:\n",
    "        for r_id, route in enumerate(routes[task]):\n",
    "            origin = route[0]\n",
    "            destination = route[1]\n",
    "            num_vehicles = corl_vehicles_tasks[i]\n",
    "            num_pedestrians = corl_pedestrians_tasks[i]\n",
    "            task_cfg = {\"town\": town,\n",
    "                        \"origin\": origin,\n",
    "                        \"destination\": destination,\n",
    "                        \"num_vehicles\": num_vehicles,\n",
    "                        \"num_pedestrians\": num_pedestrians,\n",
    "                        \"weather\": weather}\n",
    "            name = task+'-'+weather+str(r_id)+'.json'\n",
    "            with open('oatomobile/benchmarks/corl2017_new_weather_town_suite/configs/%s'%name, 'w') as outfile:\n",
    "                json.dump(task_cfg, outfile, indent=2)"
   ]
  },
  {
   "cell_type": "markdown",
   "metadata": {},
   "source": [
    "### Anyweather (New town + 10 weathers)"
   ]
  },
  {
   "cell_type": "code",
   "execution_count": 65,
   "metadata": {},
   "outputs": [],
   "source": [
    "town = \"Town02\"\n",
    "tasks = ['Straight', 'OneTurn', 'Navigation', 'NavDynamic']\n",
    "routes = { }\n",
    "\n",
    "taskids = glob.glob('./oatomobile/benchmarks/corl2017/configs/Town02_Straight*')\n",
    "r_list = [ ]\n",
    "for task in taskids:\n",
    "    with open(task, 'r') as f:\n",
    "        config = json.load(f)\n",
    "        origin = config['origin']\n",
    "        destination = config['destination']\n",
    "        r_list.append([origin, destination])\n",
    "routes['Straight'] = r_list\n",
    "\n",
    "taskids = glob.glob('./oatomobile/benchmarks/corl2017/configs/Town02_Turn*')\n",
    "r_list = [ ]\n",
    "for task in taskids:\n",
    "    with open(task, 'r') as f:\n",
    "        config = json.load(f)\n",
    "        origin = config['origin']\n",
    "        destination = config['destination']\n",
    "        r_list.append([origin, destination])\n",
    "routes['OneTurn'] = r_list\n",
    "\n",
    "taskids = glob.glob('./oatomobile/benchmarks/corl2017/configs/Town02_FullTown*')\n",
    "r_list = [ ]\n",
    "for task in taskids:\n",
    "    with open(task, 'r') as f:\n",
    "        config = json.load(f)\n",
    "        origin = config['origin']\n",
    "        destination = config['destination']\n",
    "        r_list.append([origin, destination])\n",
    "routes['Navigation'] = r_list\n",
    "        \n",
    "taskids = glob.glob('./oatomobile/benchmarks/corl2017/configs/Town02_FullTown*')\n",
    "r_list = [ ]\n",
    "for task in taskids:\n",
    "    with open(task, 'r') as f:\n",
    "        config = json.load(f)\n",
    "        origin = config['origin']\n",
    "        destination = config['destination']\n",
    "        r_list.append([origin, destination])\n",
    "routes['NavDynamic'] = r_list"
   ]
  },
  {
   "cell_type": "code",
   "execution_count": 67,
   "metadata": {},
   "outputs": [
    {
     "data": {
      "text/plain": [
       "['CloudyNoon',\n",
       " 'WetCloudyNoon',\n",
       " 'MidRainyNoon',\n",
       " 'SoftRainNoon',\n",
       " 'CloudySunset',\n",
       " 'WetSunset',\n",
       " 'WetCloudySunset',\n",
       " 'MidRainSunset',\n",
       " 'HardRainSunset',\n",
       " 'SoftRainSunset']"
      ]
     },
     "execution_count": 67,
     "metadata": {},
     "output_type": "execute_result"
    }
   ],
   "source": [
    "any_weathers"
   ]
  },
  {
   "cell_type": "code",
   "execution_count": 66,
   "metadata": {},
   "outputs": [],
   "source": [
    "for i, task in enumerate(tasks):\n",
    "    for weather in any_weathers:\n",
    "        for r_id, route in enumerate(routes[task]):\n",
    "            origin = route[0]\n",
    "            destination = route[1]\n",
    "            num_vehicles = anyweather_vehicles_tasks[i]\n",
    "            num_pedestrians = anyweather_pedestrians_tasks[i]\n",
    "            task_cfg = {\"town\": town,\n",
    "                        \"origin\": origin,\n",
    "                        \"destination\": destination,\n",
    "                        \"num_vehicles\": num_vehicles,\n",
    "                        \"num_pedestrians\": num_pedestrians,\n",
    "                        \"weather\": weather}\n",
    "            name = task+'-'+weather+str(r_id)+'.json'\n",
    "            with open('oatomobile/benchmarks/anyweather/configs/%s'%name, 'w') as outfile:\n",
    "                json.dump(task_cfg, outfile, indent=2)"
   ]
  },
  {
   "cell_type": "code",
   "execution_count": 68,
   "metadata": {},
   "outputs": [
    {
     "data": {
      "text/plain": [
       "10"
      ]
     },
     "execution_count": 68,
     "metadata": {},
     "output_type": "execute_result"
    }
   ],
   "source": [
    "len(any_weathers)"
   ]
  },
  {
   "cell_type": "code",
   "execution_count": null,
   "metadata": {},
   "outputs": [],
   "source": []
  }
 ],
 "metadata": {
  "kernelspec": {
   "display_name": "oatomobile",
   "language": "python",
   "name": "oatomobile"
  },
  "language_info": {
   "codemirror_mode": {
    "name": "ipython",
    "version": 3
   },
   "file_extension": ".py",
   "mimetype": "text/x-python",
   "name": "python",
   "nbconvert_exporter": "python",
   "pygments_lexer": "ipython3",
   "version": "3.7.10"
  }
 },
 "nbformat": 4,
 "nbformat_minor": 2
}
